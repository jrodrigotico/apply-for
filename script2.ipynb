{
 "cells": [
  {
   "cell_type": "code",
   "execution_count": 1,
   "metadata": {},
   "outputs": [],
   "source": [
    "import pandas as pd\n",
    "import os\n",
    "import timeit\n",
    "import numpy as np\n",
    "import random\n",
    "# import swifter\n",
    "import time\n",
    "import seaborn as sns"
   ]
  },
  {
   "cell_type": "code",
   "execution_count": 2,
   "metadata": {},
   "outputs": [
    {
     "data": {
      "text/plain": [
       "'C:\\\\Users\\\\JoãoPinheiro\\\\OneDrive - CTI Global\\\\Área de Trabalho\\\\apply-if\\\\dados'"
      ]
     },
     "execution_count": 2,
     "metadata": {},
     "output_type": "execute_result"
    }
   ],
   "source": [
    "# # diretorio PC pessoal\n",
    "# diretorio = r'C:\\Users\\Computadores Gamer\\OneDrive\\Área de Trabalho\\apply-if\\dados'\n",
    "# diretorio = diretorio.replace('\\\\','//')\n",
    "\n",
    "# os.chdir(diretorio)\n",
    "# os.getcwd()\n",
    "\n",
    "\n",
    "# diretorio PC trampo\n",
    "diretorio = r'C:\\Users\\JoãoPinheiro\\OneDrive - CTI Global\\Área de Trabalho\\apply-if\\dados'\n",
    "diretorio = diretorio.replace('\\\\','//')\n",
    "\n",
    "os.chdir(diretorio)\n",
    "os.getcwd()\n"
   ]
  },
  {
   "cell_type": "markdown",
   "metadata": {},
   "source": [
    "# Download dos dados\n"
   ]
  },
  {
   "cell_type": "code",
   "execution_count": 3,
   "metadata": {},
   "outputs": [],
   "source": [
    "#### MORADOR\n",
    "# largura do txt\n",
    "larguras = [2,4,1,9,2,1,2,2,1,2,2,4,3,1,1,\n",
    "            1,1,1,2,1,2,1,1,1,1,1,1,1,1,1,\n",
    "            1,1,1,1,1,2,1,1,2,1,1,2,1,1,1,\n",
    "            2,1,2,14,14,10,1,20,20,20,20]\n",
    "\n",
    "# nome das colunas\n",
    "colunas = [\"UF\", \"ESTRATO_POF\", \"TIPO_SITUACAO_REG\",\n",
    "            \"COD_UPA\", \"NUM_DOM\", \"NUM_UC\", \"COD_INFORMANTE\",\n",
    "            \"V0306\", \"V0401\", \"V04021\", \"V04022\", \"V04023\",\n",
    "            \"V0403\", \"V0404\", \"V0405\", \"V0406\", \"V0407\",\n",
    "            \"V0408\", \"V0409\", \"V0410\", \"V0411\", \"V0412\",\n",
    "            \"V0413\", \"V0414\", \"V0415\", \"V0416\",\n",
    "            \"V041711\", \"V041712\", \"V041721\", \"V041722\",\n",
    "            \"V041731\", \"V041732\", \"V041741\", \"V041742\",\n",
    "            \"V0418\", \"V0419\", \"V0420\", \"V0421\", \"V0422\",\n",
    "            \"V0423\", \"V0424\", \"V0425\", \"V0426\", \"V0427\",\n",
    "            \"V0428\", \"V0429\", \"V0430\", \"ANOS_ESTUDO\",\n",
    "            \"PESO\", \"PESO_FINAL\", \"RENDA_TOTAL\",\n",
    "            \"NIVEL_INSTRUCAO\", \"RENDA_DISP_PC\",\"RENDA_MONET_PC\",\n",
    "            \"RENDA_NAO_MONET_PC\",\"DEDUCAO_PC\" ]\n",
    "\n",
    "# leitura dos dados\n",
    "MORADOR = pd.read_fwf(\n",
    "    os.path.join(diretorio, \"MORADOR.txt\"),\n",
    "    widths=larguras,\n",
    "    na_values=[\" \"],\n",
    "    names=colunas,\n",
    "    decimal=\".\"\n",
    ")"
   ]
  },
  {
   "cell_type": "markdown",
   "metadata": {},
   "source": [
    "# Condições"
   ]
  },
  {
   "cell_type": "code",
   "execution_count": 19,
   "metadata": {},
   "outputs": [],
   "source": [
    "condicao1 = ((MORADOR['RENDA_DISP_PC'] + MORADOR['PESO_FINAL']>1000) &\\\n",
    "    (MORADOR['RENDA_MONET_PC'] > 300) &\\\n",
    "    (MORADOR['RENDA_NAO_MONET_PC'] < 200) &\\\n",
    "    (MORADOR['RENDA_TOTAL'] < 1000))\n",
    "\n",
    "condicao2 = ((MORADOR['RENDA_TOTAL'] * 5 > 500) &\\\n",
    "        (MORADOR['RENDA_MONET_PC'] > MORADOR['RENDA_TOTAL'] / 2))\n",
    "\n",
    "condicao3 = [~( condicao1| condicao2)]\n",
    "\n"
   ]
  },
  {
   "cell_type": "markdown",
   "metadata": {},
   "source": [
    "# Função"
   ]
  },
  {
   "cell_type": "code",
   "execution_count": 5,
   "metadata": {},
   "outputs": [],
   "source": [
    "def funcao(z):\n",
    "    if (z['RENDA_DISP_PC'] + z['PESO_FINAL'])>1000 and\\\n",
    "        (z['RENDA_MONET_PC']> 300) and\\\n",
    "        (z['RENDA_NAO_MONET_PC']< 200) and\\\n",
    "        z['RENDA_TOTAL']<1000:\n",
    "        return 1\n",
    "    \n",
    "    elif z['RENDA_TOTAL']* 5 > 500 and\\\n",
    "        (z['RENDA_MONET_PC'] > z['RENDA_TOTAL']/2):\n",
    "        return 1\n",
    "    \n",
    "    else:    \n",
    "        return 0"
   ]
  },
  {
   "cell_type": "markdown",
   "metadata": {},
   "source": [
    "# Reset do tempo"
   ]
  },
  {
   "cell_type": "code",
   "execution_count": 34,
   "metadata": {},
   "outputs": [],
   "source": [
    "tempo = []"
   ]
  },
  {
   "cell_type": "markdown",
   "metadata": {},
   "source": [
    "# For"
   ]
  },
  {
   "cell_type": "code",
   "execution_count": 35,
   "metadata": {},
   "outputs": [
    {
     "data": {
      "text/plain": [
       "var_teste\n",
       "0    170714\n",
       "1      7717\n",
       "Name: count, dtype: int64"
      ]
     },
     "execution_count": 35,
     "metadata": {},
     "output_type": "execute_result"
    }
   ],
   "source": [
    "inicio = time.time()\n",
    "for i in range(len(MORADOR)):\n",
    "    if( MORADOR.loc[i,'RENDA_DISP_PC'] + MORADOR.loc[i,'PESO_FINAL']>1000) and\\\n",
    "        (MORADOR.loc[i,'RENDA_MONET_PC']>300) and\\\n",
    "        (MORADOR.loc[i,'RENDA_NAO_MONET_PC']<200) and\\\n",
    "        (MORADOR.loc[i,'RENDA_TOTAL']<1000):\n",
    "        MORADOR.loc[i,'var_teste'] = 1\n",
    "    \n",
    "    elif MORADOR.loc[i,'RENDA_TOTAL']*5 >500 and\\\n",
    "        MORADOR.loc[i,'RENDA_MONET_PC'] > MORADOR.loc[i,'RENDA_TOTAL']/2:\n",
    "        MORADOR.loc[i,'var_teste'] = 1\n",
    "    \n",
    "    else:\n",
    "        MORADOR.loc[i,'var_teste'] = 0      \n",
    "final = time.time()\n",
    "\n",
    "delta_for = final-inicio\n",
    "tempo.append(delta_for)\n",
    "MORADOR['var_teste'].value_counts()"
   ]
  },
  {
   "cell_type": "markdown",
   "metadata": {},
   "source": [
    "# Apply"
   ]
  },
  {
   "cell_type": "code",
   "execution_count": 36,
   "metadata": {},
   "outputs": [
    {
     "data": {
      "text/plain": [
       "var_teste2\n",
       "0    170714\n",
       "1      7717\n",
       "Name: count, dtype: int64"
      ]
     },
     "execution_count": 36,
     "metadata": {},
     "output_type": "execute_result"
    }
   ],
   "source": [
    "inicio = time.time()\n",
    "MORADOR['var_teste2'] = MORADOR.apply(funcao, axis=1)\n",
    "final = time.time()\n",
    "\n",
    "delta_apply = final-inicio\n",
    "tempo.append(delta_apply)\n",
    "MORADOR['var_teste2'].value_counts()"
   ]
  },
  {
   "cell_type": "markdown",
   "metadata": {},
   "source": [
    "# Vetorização pandas"
   ]
  },
  {
   "cell_type": "code",
   "execution_count": 37,
   "metadata": {},
   "outputs": [
    {
     "data": {
      "text/plain": [
       "var_teste3\n",
       "0.0    170714\n",
       "1.0      7717\n",
       "Name: count, dtype: int64"
      ]
     },
     "execution_count": 37,
     "metadata": {},
     "output_type": "execute_result"
    }
   ],
   "source": [
    "inicio = time.time()\n",
    "MORADOR.loc[(condicao1 | condicao2), 'var_teste3']=1\n",
    "MORADOR.loc[~ (condicao1 | condicao2), 'var_teste3']=0\n",
    "final = time.time()\n",
    "\n",
    "delta_vetor_pandas = final-inicio\n",
    "tempo.append(delta_vetor_pandas)\n",
    "MORADOR['var_teste3'].value_counts()\n"
   ]
  },
  {
   "cell_type": "markdown",
   "metadata": {},
   "source": [
    "# Função para vetorização numpy"
   ]
  },
  {
   "cell_type": "code",
   "execution_count": 38,
   "metadata": {},
   "outputs": [],
   "source": [
    "def function1(a, b, c, d, e):\n",
    "    if a + b > 1000 and c > 300 and d < 200 and e < 1000:\n",
    "        return 1\n",
    "    elif e * 5 > 500 and c > e / 2:\n",
    "        return 1\n",
    "    else:\n",
    "        return 0\n",
    "   \n",
    "    \n",
    "function_vetorizada = np.vectorize(pyfunc = function1)\n"
   ]
  },
  {
   "cell_type": "markdown",
   "metadata": {},
   "source": [
    "# Vetorização numpy"
   ]
  },
  {
   "cell_type": "code",
   "execution_count": 39,
   "metadata": {},
   "outputs": [
    {
     "data": {
      "text/plain": [
       "var_teste\n",
       "    178431\n",
       "Name: count, dtype: int64"
      ]
     },
     "execution_count": 39,
     "metadata": {},
     "output_type": "execute_result"
    }
   ],
   "source": [
    "MORADOR['var_teste'] = ''\n",
    "inicio = time.time()\n",
    "# function_vetorizada = (MORADOR['RENDA_DISP_PC'], MORADOR['PESO_FINAL'],MORADOR['RENDA_MONET_PC'],MORADOR['RENDA_NAO_MONET_PC'],MORADOR['RENDA_TOTAL'])\n",
    "final = time.time()\n",
    "\n",
    "delta_vetor_numpy = final-inicio\n",
    "tempo.append(delta_vetor_numpy)\n",
    "MORADOR['var_teste'].value_counts()\n"
   ]
  },
  {
   "cell_type": "markdown",
   "metadata": {},
   "source": [
    "# np.select"
   ]
  },
  {
   "cell_type": "code",
   "execution_count": 40,
   "metadata": {},
   "outputs": [
    {
     "data": {
      "text/plain": [
       "var_teste5\n",
       "2    170714\n",
       "1      7264\n",
       "0       453\n",
       "Name: count, dtype: int64"
      ]
     },
     "execution_count": 40,
     "metadata": {},
     "output_type": "execute_result"
    }
   ],
   "source": [
    "inicio = time.time()\n",
    "MORADOR['var_teste5'] = np.select([condicao1 , condicao2], [0, 1], default = 2)\n",
    "final = time.time()\n",
    "\n",
    "delta_select = final-inicio\n",
    "tempo.append(delta_select)\n",
    "MORADOR['var_teste5'].value_counts()"
   ]
  },
  {
   "cell_type": "markdown",
   "metadata": {},
   "source": [
    "# np.where"
   ]
  },
  {
   "cell_type": "code",
   "execution_count": 41,
   "metadata": {},
   "outputs": [
    {
     "data": {
      "text/plain": [
       "var_teste6\n",
       "0    170714\n",
       "1      7717\n",
       "Name: count, dtype: int64"
      ]
     },
     "execution_count": 41,
     "metadata": {},
     "output_type": "execute_result"
    }
   ],
   "source": [
    "inicio = time.time()\n",
    "MORADOR['var_teste6'] = np.where(condicao1 | condicao2, 1, 0)\n",
    "# MORADOR['var_teste'] = np.where(condicao1, True , np.where(condicao2, False, 0))\n",
    "final = time.time()\n",
    "\n",
    "delta_where = final-inicio\n",
    "tempo.append(delta_where)\n",
    "MORADOR['var_teste6'].value_counts()"
   ]
  },
  {
   "cell_type": "markdown",
   "metadata": {},
   "source": [
    "# Tabela resumo dos tempos"
   ]
  },
  {
   "cell_type": "code",
   "execution_count": 42,
   "metadata": {},
   "outputs": [
    {
     "data": {
      "text/html": [
       "<div>\n",
       "<style scoped>\n",
       "    .dataframe tbody tr th:only-of-type {\n",
       "        vertical-align: middle;\n",
       "    }\n",
       "\n",
       "    .dataframe tbody tr th {\n",
       "        vertical-align: top;\n",
       "    }\n",
       "\n",
       "    .dataframe thead th {\n",
       "        text-align: right;\n",
       "    }\n",
       "</style>\n",
       "<table border=\"1\" class=\"dataframe\">\n",
       "  <thead>\n",
       "    <tr style=\"text-align: right;\">\n",
       "      <th></th>\n",
       "      <th>tempo</th>\n",
       "    </tr>\n",
       "  </thead>\n",
       "  <tbody>\n",
       "    <tr>\n",
       "      <th>for</th>\n",
       "      <td>62.027159</td>\n",
       "    </tr>\n",
       "    <tr>\n",
       "      <th>apply</th>\n",
       "      <td>19.235441</td>\n",
       "    </tr>\n",
       "    <tr>\n",
       "      <th>vetor pandas</th>\n",
       "      <td>0.014944</td>\n",
       "    </tr>\n",
       "    <tr>\n",
       "      <th>vetor numpy</th>\n",
       "      <td>0.000000</td>\n",
       "    </tr>\n",
       "    <tr>\n",
       "      <th>np.select</th>\n",
       "      <td>0.004847</td>\n",
       "    </tr>\n",
       "    <tr>\n",
       "      <th>np.where</th>\n",
       "      <td>0.002004</td>\n",
       "    </tr>\n",
       "  </tbody>\n",
       "</table>\n",
       "</div>"
      ],
      "text/plain": [
       "                  tempo\n",
       "for           62.027159\n",
       "apply         19.235441\n",
       "vetor pandas   0.014944\n",
       "vetor numpy    0.000000\n",
       "np.select      0.004847\n",
       "np.where       0.002004"
      ]
     },
     "execution_count": 42,
     "metadata": {},
     "output_type": "execute_result"
    }
   ],
   "source": [
    "tabela_tempo = pd.DataFrame({'tempo':tempo}, index =['for', 'apply', 'vetor pandas','vetor numpy', 'np.select','np.where'])\n",
    "tabela_tempo"
   ]
  },
  {
   "cell_type": "markdown",
   "metadata": {},
   "source": [
    "# Gráfico"
   ]
  },
  {
   "cell_type": "code",
   "execution_count": 43,
   "metadata": {},
   "outputs": [
    {
     "data": {
      "text/plain": [
       "<Axes: xlabel='None', ylabel='tempo'>"
      ]
     },
     "execution_count": 43,
     "metadata": {},
     "output_type": "execute_result"
    },
    {
     "data": {
      "image/png": "[encoded data removed]",
      "text/plain": [
       "<Figure size 640x480 with 1 Axes>"
      ]
     },
     "metadata": {},
     "output_type": "display_data"
    }
   ],
   "source": [
    "sns.lineplot(data = tabela_tempo, x=tabela_tempo.index, y='tempo')"
   ]
  }
 ],
 "metadata": {
  "kernelspec": {
   "display_name": "Python 3",
   "language": "python",
   "name": "python3"
  },
  "language_info": {
   "codemirror_mode": {
    "name": "ipython",
    "version": 3
   },
   "file_extension": ".py",
   "mimetype": "text/x-python",
   "name": "python",
   "nbconvert_exporter": "python",
   "pygments_lexer": "ipython3",
   "version": "3.12.2"
  }
 },
 "nbformat": 4,
 "nbformat_minor": 2
}
