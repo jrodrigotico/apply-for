{
 "cells": [
  {
   "cell_type": "markdown",
   "metadata": {},
   "source": [
    "# Pacotes"
   ]
  },
  {
   "cell_type": "code",
   "execution_count": 1,
   "metadata": {},
   "outputs": [],
   "source": [
    "import pandas as pd\n",
    "import os\n",
    "import timeit\n",
    "import numpy as np\n",
    "import random\n",
    "import time\n",
    "import seaborn as sns"
   ]
  },
  {
   "cell_type": "markdown",
   "metadata": {},
   "source": [
    "# Diretório"
   ]
  },
  {
   "cell_type": "code",
   "execution_count": 2,
   "metadata": {},
   "outputs": [
    {
     "data": {
      "text/plain": [
       "'C:\\\\Users\\\\JoãoPinheiro\\\\OneDrive - CTI Global\\\\Área de Trabalho\\\\apply-if\\\\dados'"
      ]
     },
     "execution_count": 2,
     "metadata": {},
     "output_type": "execute_result"
    }
   ],
   "source": [
    "# # diretorio PC pessoal\n",
    "# diretorio = r'C:\\Users\\Computadores Gamer\\OneDrive\\Área de Trabalho\\apply-if\\dados'\n",
    "# diretorio = diretorio.replace('\\\\','//')\n",
    "\n",
    "# os.chdir(diretorio)\n",
    "# os.getcwd()\n",
    "\n",
    "\n",
    "# diretorio PC trampo\n",
    "diretorio = r'C:\\Users\\JoãoPinheiro\\OneDrive - CTI Global\\Área de Trabalho\\apply-if\\dados'\n",
    "diretorio = diretorio.replace('\\\\','//')\n",
    "\n",
    "os.chdir(diretorio)\n",
    "os.getcwd()\n"
   ]
  },
  {
   "cell_type": "markdown",
   "metadata": {},
   "source": [
    "# Download dos dados\n",
    "Recomendado resetar a base."
   ]
  },
  {
   "cell_type": "code",
   "execution_count": 3,
   "metadata": {},
   "outputs": [],
   "source": [
    "#### MORADOR\n",
    "# largura do txt\n",
    "larguras = [2,4,1,9,2,1,2,2,1,2,2,4,3,1,1,\n",
    "            1,1,1,2,1,2,1,1,1,1,1,1,1,1,1,\n",
    "            1,1,1,1,1,2,1,1,2,1,1,2,1,1,1,\n",
    "            2,1,2,14,14,10,1,20,20,20,20]\n",
    "\n",
    "# nome das colunas\n",
    "colunas = [\"UF\", \"ESTRATO_POF\", \"TIPO_SITUACAO_REG\",\n",
    "            \"COD_UPA\", \"NUM_DOM\", \"NUM_UC\", \"COD_INFORMANTE\",\n",
    "            \"V0306\", \"V0401\", \"V04021\", \"V04022\", \"V04023\",\n",
    "            \"V0403\", \"V0404\", \"V0405\", \"V0406\", \"V0407\",\n",
    "            \"V0408\", \"V0409\", \"V0410\", \"V0411\", \"V0412\",\n",
    "            \"V0413\", \"V0414\", \"V0415\", \"V0416\",\n",
    "            \"V041711\", \"V041712\", \"V041721\", \"V041722\",\n",
    "            \"V041731\", \"V041732\", \"V041741\", \"V041742\",\n",
    "            \"V0418\", \"V0419\", \"V0420\", \"V0421\", \"V0422\",\n",
    "            \"V0423\", \"V0424\", \"V0425\", \"V0426\", \"V0427\",\n",
    "            \"V0428\", \"V0429\", \"V0430\", \"ANOS_ESTUDO\",\n",
    "            \"PESO\", \"PESO_FINAL\", \"RENDA_TOTAL\",\n",
    "            \"NIVEL_INSTRUCAO\", \"RENDA_DISP_PC\",\"RENDA_MONET_PC\",\n",
    "            \"RENDA_NAO_MONET_PC\",\"DEDUCAO_PC\" ]\n",
    "\n",
    "# leitura dos dados\n",
    "MORADOR = pd.read_fwf(\n",
    "    os.path.join(diretorio, \"MORADOR.txt\"),\n",
    "    widths=larguras,\n",
    "    na_values=[\" \"],\n",
    "    names=colunas,\n",
    "    decimal=\".\"\n",
    ")"
   ]
  },
  {
   "cell_type": "markdown",
   "metadata": {},
   "source": [
    "# Condições"
   ]
  },
  {
   "cell_type": "code",
   "execution_count": 4,
   "metadata": {},
   "outputs": [],
   "source": [
    "condicao1 = ((MORADOR['RENDA_DISP_PC'] + MORADOR['PESO_FINAL']>1000) &\\\n",
    "    (MORADOR['RENDA_MONET_PC'] > 300) &\\\n",
    "    (MORADOR['RENDA_NAO_MONET_PC'] < 200) &\\\n",
    "    (MORADOR['RENDA_TOTAL'] < 1000))\n",
    "\n",
    "condicao2 = ((MORADOR['RENDA_TOTAL'] * 5 > 500) &\\\n",
    "        (MORADOR['RENDA_MONET_PC'] > MORADOR['RENDA_TOTAL'] / 2))\n",
    "\n",
    "condicao3 = [~( condicao1| condicao2)]\n",
    "\n"
   ]
  },
  {
   "cell_type": "markdown",
   "metadata": {},
   "source": [
    "# Função"
   ]
  },
  {
   "cell_type": "code",
   "execution_count": 5,
   "metadata": {},
   "outputs": [],
   "source": [
    "def funcao(z):\n",
    "    if (z['RENDA_DISP_PC'] + z['PESO_FINAL'])>1000 and\\\n",
    "        (z['RENDA_MONET_PC']> 300) and\\\n",
    "        (z['RENDA_NAO_MONET_PC']< 200) and\\\n",
    "        z['RENDA_TOTAL']<1000:\n",
    "        return 1\n",
    "    \n",
    "    elif z['RENDA_TOTAL']* 5 > 500 and\\\n",
    "        (z['RENDA_MONET_PC'] > z['RENDA_TOTAL']/2):\n",
    "        return 0\n",
    "    \n",
    "    else:    \n",
    "        return 0"
   ]
  },
  {
   "cell_type": "markdown",
   "metadata": {},
   "source": [
    "# Lista de tempos"
   ]
  },
  {
   "cell_type": "code",
   "execution_count": 6,
   "metadata": {},
   "outputs": [],
   "source": [
    "tempo = []"
   ]
  },
  {
   "cell_type": "markdown",
   "metadata": {},
   "source": [
    "# For"
   ]
  },
  {
   "cell_type": "code",
   "execution_count": 7,
   "metadata": {},
   "outputs": [
    {
     "data": {
      "text/plain": [
       "var_teste\n",
       "0.0    170714\n",
       "1.0      7717\n",
       "Name: count, dtype: int64"
      ]
     },
     "execution_count": 7,
     "metadata": {},
     "output_type": "execute_result"
    }
   ],
   "source": [
    "inicio = time.time()\n",
    "for i in range(len(MORADOR)):\n",
    "    if( MORADOR.loc[i,'RENDA_DISP_PC'] + MORADOR.loc[i,'PESO_FINAL']>1000) and\\\n",
    "        (MORADOR.loc[i,'RENDA_MONET_PC']>300) and\\\n",
    "        (MORADOR.loc[i,'RENDA_NAO_MONET_PC']<200) and\\\n",
    "        (MORADOR.loc[i,'RENDA_TOTAL']<1000):\n",
    "        MORADOR.loc[i,'var_teste'] = 1\n",
    "    \n",
    "    elif MORADOR.loc[i,'RENDA_TOTAL']*5 >500 and\\\n",
    "        MORADOR.loc[i,'RENDA_MONET_PC'] > MORADOR.loc[i,'RENDA_TOTAL']/2:\n",
    "        MORADOR.loc[i,'var_teste'] = 1\n",
    "    \n",
    "    else:\n",
    "        MORADOR.loc[i,'var_teste'] = 0      \n",
    "final = time.time()\n",
    "\n",
    "delta_for = final-inicio\n",
    "tempo.append(delta_for)\n",
    "MORADOR['var_teste'].value_counts()"
   ]
  },
  {
   "cell_type": "markdown",
   "metadata": {},
   "source": [
    "# Apply"
   ]
  },
  {
   "cell_type": "code",
   "execution_count": 8,
   "metadata": {},
   "outputs": [
    {
     "data": {
      "text/plain": [
       "var_teste\n",
       "0    170714\n",
       "1      7717\n",
       "Name: count, dtype: int64"
      ]
     },
     "execution_count": 8,
     "metadata": {},
     "output_type": "execute_result"
    }
   ],
   "source": [
    "inicio = time.time()\n",
    "def funcao(z):\n",
    "    if (z['RENDA_DISP_PC'] + z['PESO_FINAL']>1000) and\\\n",
    "        (z['RENDA_MONET_PC']> 300) and\\\n",
    "        (z['RENDA_NAO_MONET_PC']< 200) and\\\n",
    "        z['RENDA_TOTAL']<1000:\n",
    "        return 1\n",
    "    \n",
    "    elif z['RENDA_TOTAL']* 5 > 500 and\\\n",
    "        (z['RENDA_MONET_PC'] > z['RENDA_TOTAL']/2):\n",
    "        return 1\n",
    "    \n",
    "    else:    \n",
    "        return 0\n",
    "MORADOR['var_teste'] = MORADOR.apply(funcao, axis = 1)\n",
    "\n",
    "final = time.time()\n",
    "\n",
    "delta_apply = final-inicio\n",
    "tempo.append(delta_apply)\n",
    "MORADOR['var_teste'].value_counts()"
   ]
  },
  {
   "cell_type": "markdown",
   "metadata": {},
   "source": [
    "# Vetorização pandas"
   ]
  },
  {
   "cell_type": "code",
   "execution_count": 9,
   "metadata": {},
   "outputs": [
    {
     "data": {
      "text/plain": [
       "var_teste\n",
       "0    170714\n",
       "1      7717\n",
       "Name: count, dtype: int64"
      ]
     },
     "execution_count": 9,
     "metadata": {},
     "output_type": "execute_result"
    }
   ],
   "source": [
    "inicio = time.time()\n",
    "MORADOR.loc[(condicao1 | condicao2), 'var_teste']=1\n",
    "MORADOR.loc[~ (condicao1 | condicao2), 'var_teste']=0\n",
    "final = time.time()\n",
    "\n",
    "delta_vetor_pandas = final-inicio\n",
    "tempo.append(delta_vetor_pandas)\n",
    "MORADOR['var_teste'].value_counts()\n"
   ]
  },
  {
   "cell_type": "markdown",
   "metadata": {},
   "source": [
    "# Teste da vetorização com numpy\n",
    "Não preciso por na definição da função a[0]>b[0] and b[0]>c[0]/5, pq np.vectorize já chama a a função 'teste' percorrendo cada elemento individualmente."
   ]
  },
  {
   "cell_type": "code",
   "execution_count": 10,
   "metadata": {},
   "outputs": [
    {
     "name": "stdout",
     "output_type": "stream",
     "text": [
      "   data1  data2  data3 resultado\n",
      "0      9      5     38    teste2\n",
      "1      8      5     49    teste2\n",
      "2      7      5     11    teste1\n"
     ]
    }
   ],
   "source": [
    "tabela = pd.DataFrame({'data1':np.random.randint(5,10,3),\n",
    "                    'data2':np.random.randint(5,10,3),\n",
    "                    'data3':np.random.randint(8,100,3)\n",
    "})\n",
    "\n",
    "def teste(a,b,c):\n",
    "    if a > b and b > c/5:\n",
    "        return 'teste1'\n",
    "    else:\n",
    "        return 'teste2'\n",
    "\n",
    "funcao = np.vectorize(teste)\n",
    "tabela['resultado'] = funcao(tabela['data1'], tabela['data2'], tabela['data3'])\n",
    "print(tabela)\n"
   ]
  },
  {
   "cell_type": "markdown",
   "metadata": {},
   "source": [
    "# Função para Vetorização numpy"
   ]
  },
  {
   "cell_type": "code",
   "execution_count": 11,
   "metadata": {},
   "outputs": [],
   "source": [
    "def function1(a, b, c, d, e):\n",
    "    if a + b > 1000 and c > 300 and d < 200 and e < 1000:\n",
    "        return 1\n",
    "    elif e * 5 > 500 and c > e / 2:\n",
    "        return 1\n",
    "    else:\n",
    "        return 0\n",
    "\n",
    "function_vetorizada = np.vectorize(function1)\n"
   ]
  },
  {
   "cell_type": "markdown",
   "metadata": {},
   "source": [
    "# Vetorização numpy"
   ]
  },
  {
   "cell_type": "code",
   "execution_count": 12,
   "metadata": {},
   "outputs": [
    {
     "name": "stderr",
     "output_type": "stream",
     "text": [
      "c:\\Users\\JoãoPinheiro\\AppData\\Local\\Programs\\Python\\Python312\\Lib\\site-packages\\numpy\\lib\\function_base.py:2455: RuntimeWarning: invalid value encountered in function1 (vectorized)\n",
      "  outputs = ufunc(*inputs)\n"
     ]
    },
    {
     "data": {
      "text/plain": [
       "var_teste\n",
       "0    170714\n",
       "1      7717\n",
       "Name: count, dtype: int64"
      ]
     },
     "execution_count": 12,
     "metadata": {},
     "output_type": "execute_result"
    }
   ],
   "source": [
    "inicio = time.time()\n",
    "MORADOR['var_teste'] = function_vetorizada(MORADOR['RENDA_DISP_PC'],\n",
    "                                MORADOR['PESO_FINAL'],\n",
    "                                MORADOR['RENDA_MONET_PC'],\n",
    "                                MORADOR['RENDA_NAO_MONET_PC'],\n",
    "                                MORADOR['RENDA_TOTAL'])\n",
    "final = time.time()\n",
    "\n",
    "delta_vetor_numpy = final-inicio\n",
    "tempo.append(delta_vetor_numpy)\n",
    "MORADOR['var_teste'].value_counts()\n"
   ]
  },
  {
   "cell_type": "markdown",
   "metadata": {},
   "source": [
    "# np.select"
   ]
  },
  {
   "cell_type": "code",
   "execution_count": 13,
   "metadata": {},
   "outputs": [
    {
     "data": {
      "text/plain": [
       "var_teste\n",
       "0    170714\n",
       "1      7717\n",
       "Name: count, dtype: int64"
      ]
     },
     "execution_count": 13,
     "metadata": {},
     "output_type": "execute_result"
    }
   ],
   "source": [
    "inicio = time.time()\n",
    "MORADOR['var_teste'] = np.select([(condicao1 | condicao2)], [1], default = 0)\n",
    "final = time.time()\n",
    "\n",
    "delta_select = final-inicio\n",
    "tempo.append(delta_select)\n",
    "MORADOR['var_teste'].value_counts()"
   ]
  },
  {
   "cell_type": "markdown",
   "metadata": {},
   "source": [
    "# np.where"
   ]
  },
  {
   "cell_type": "code",
   "execution_count": 14,
   "metadata": {},
   "outputs": [
    {
     "data": {
      "text/plain": [
       "var_teste\n",
       "0    170714\n",
       "1      7717\n",
       "Name: count, dtype: int64"
      ]
     },
     "execution_count": 14,
     "metadata": {},
     "output_type": "execute_result"
    }
   ],
   "source": [
    "inicio = time.time()\n",
    "MORADOR['var_teste'] = np.where(condicao1 | condicao2, 1, 0)\n",
    "# MORADOR['var_teste'] = np.where(condicao1, True , np.where(condicao2, False, 0))\n",
    "final = time.time()\n",
    "\n",
    "delta_where = final-inicio\n",
    "tempo.append(delta_where)\n",
    "MORADOR['var_teste'].value_counts()"
   ]
  },
  {
   "cell_type": "markdown",
   "metadata": {},
   "source": [
    "# Tabela resumo dos tempos"
   ]
  },
  {
   "cell_type": "code",
   "execution_count": 15,
   "metadata": {},
   "outputs": [
    {
     "data": {
      "text/html": [
       "<div>\n",
       "<style scoped>\n",
       "    .dataframe tbody tr th:only-of-type {\n",
       "        vertical-align: middle;\n",
       "    }\n",
       "\n",
       "    .dataframe tbody tr th {\n",
       "        vertical-align: top;\n",
       "    }\n",
       "\n",
       "    .dataframe thead th {\n",
       "        text-align: right;\n",
       "    }\n",
       "</style>\n",
       "<table border=\"1\" class=\"dataframe\">\n",
       "  <thead>\n",
       "    <tr style=\"text-align: right;\">\n",
       "      <th></th>\n",
       "      <th>tempo (segundos)</th>\n",
       "    </tr>\n",
       "  </thead>\n",
       "  <tbody>\n",
       "    <tr>\n",
       "      <th>for</th>\n",
       "      <td>172.826414</td>\n",
       "    </tr>\n",
       "    <tr>\n",
       "      <th>apply</th>\n",
       "      <td>17.275596</td>\n",
       "    </tr>\n",
       "    <tr>\n",
       "      <th>vetor pandas</th>\n",
       "      <td>0.018045</td>\n",
       "    </tr>\n",
       "    <tr>\n",
       "      <th>vetor numpy</th>\n",
       "      <td>0.536732</td>\n",
       "    </tr>\n",
       "    <tr>\n",
       "      <th>np.select</th>\n",
       "      <td>0.009712</td>\n",
       "    </tr>\n",
       "    <tr>\n",
       "      <th>np.where</th>\n",
       "      <td>0.005551</td>\n",
       "    </tr>\n",
       "  </tbody>\n",
       "</table>\n",
       "</div>"
      ],
      "text/plain": [
       "              tempo (segundos)\n",
       "for                 172.826414\n",
       "apply                17.275596\n",
       "vetor pandas          0.018045\n",
       "vetor numpy           0.536732\n",
       "np.select             0.009712\n",
       "np.where              0.005551"
      ]
     },
     "execution_count": 15,
     "metadata": {},
     "output_type": "execute_result"
    }
   ],
   "source": [
    "tabela_tempo = pd.DataFrame({'tempo (segundos)':tempo}, index =['for', 'apply', 'vetor pandas','vetor numpy', 'np.select','np.where'])\n",
    "tabela_tempo"
   ]
  },
  {
   "cell_type": "markdown",
   "metadata": {},
   "source": [
    "# Gráfico"
   ]
  },
  {
   "cell_type": "code",
   "execution_count": 16,
   "metadata": {},
   "outputs": [
    {
     "data": {
      "image/png": "[encoded data removed]",
      "text/plain": [
       "<Figure size 1000x800 with 1 Axes>"
      ]
     },
     "metadata": {},
     "output_type": "display_data"
    }
   ],
   "source": [
    "grafico_tempo = sns.lineplot(data = tabela_tempo,\n",
    "            x=tabela_tempo.index,\n",
    "            y='tempo (segundos)',\n",
    "            marker='o')\n",
    "\n",
    "grafico_tempo.figure.set_size_inches(10,8)\n",
    "\n"
   ]
  }
 ],
 "metadata": {
  "kernelspec": {
   "display_name": "Python 3",
   "language": "python",
   "name": "python3"
  },
  "language_info": {
   "codemirror_mode": {
    "name": "ipython",
    "version": 3
   },
   "file_extension": ".py",
   "mimetype": "text/x-python",
   "name": "python",
   "nbconvert_exporter": "python",
   "pygments_lexer": "ipython3",
   "version": "3.12.2"
  }
 },
 "nbformat": 4,
 "nbformat_minor": 2
}
