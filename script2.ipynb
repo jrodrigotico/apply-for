{
 "cells": [
  {
   "cell_type": "code",
   "execution_count": 1,
   "metadata": {},
   "outputs": [
    {
     "name": "stderr",
     "output_type": "stream",
     "text": [
      "c:\\Users\\Computadores Gamer\\AppData\\Local\\Programs\\Python\\Python311\\Lib\\site-packages\\dask\\dataframe\\_pyarrow_compat.py:23: UserWarning: You are using pyarrow version 13.0.0 which is known to be insecure. See https://www.cve.org/CVERecord?id=CVE-2023-47248 for further details. Please upgrade to pyarrow>=14.0.1 or install pyarrow-hotfix to patch your current version.\n",
      "  warnings.warn(\n",
      "c:\\Users\\Computadores Gamer\\AppData\\Local\\Programs\\Python\\Python311\\Lib\\site-packages\\tqdm\\auto.py:21: TqdmWarning: IProgress not found. Please update jupyter and ipywidgets. See https://ipywidgets.readthedocs.io/en/stable/user_install.html\n",
      "  from .autonotebook import tqdm as notebook_tqdm\n"
     ]
    }
   ],
   "source": [
    "import pandas as pd\n",
    "import os\n",
    "import timeit\n",
    "import numpy as np\n",
    "import random\n",
    "import swifter\n",
    "import time\n",
    "import seaborn as sns"
   ]
  },
  {
   "cell_type": "code",
   "execution_count": 2,
   "metadata": {},
   "outputs": [
    {
     "data": {
      "text/plain": [
       "'C:\\\\Users\\\\Computadores Gamer\\\\OneDrive\\\\Área de Trabalho\\\\apply-if\\\\dados'"
      ]
     },
     "execution_count": 2,
     "metadata": {},
     "output_type": "execute_result"
    }
   ],
   "source": [
    "diretorio = r'C:\\Users\\Computadores Gamer\\OneDrive\\Área de Trabalho\\apply-if\\dados'\n",
    "diretorio = diretorio.replace('\\\\','//')\n",
    "\n",
    "os.chdir(diretorio)\n",
    "os.getcwd()"
   ]
  },
  {
   "cell_type": "code",
   "execution_count": 12,
   "metadata": {},
   "outputs": [],
   "source": [
    "#### MORADOR\n",
    "# largura do txt\n",
    "larguras = [2,4,1,9,2,1,2,2,1,2,2,4,3,1,1,\n",
    "            1,1,1,2,1,2,1,1,1,1,1,1,1,1,1,\n",
    "            1,1,1,1,1,2,1,1,2,1,1,2,1,1,1,\n",
    "            2,1,2,14,14,10,1,20,20,20,20]\n",
    "\n",
    "# nome das colunas\n",
    "colunas = [\"UF\", \"ESTRATO_POF\", \"TIPO_SITUACAO_REG\",\n",
    "            \"COD_UPA\", \"NUM_DOM\", \"NUM_UC\", \"COD_INFORMANTE\",\n",
    "            \"V0306\", \"V0401\", \"V04021\", \"V04022\", \"V04023\",\n",
    "            \"V0403\", \"V0404\", \"V0405\", \"V0406\", \"V0407\",\n",
    "            \"V0408\", \"V0409\", \"V0410\", \"V0411\", \"V0412\",\n",
    "            \"V0413\", \"V0414\", \"V0415\", \"V0416\",\n",
    "            \"V041711\", \"V041712\", \"V041721\", \"V041722\",\n",
    "            \"V041731\", \"V041732\", \"V041741\", \"V041742\",\n",
    "            \"V0418\", \"V0419\", \"V0420\", \"V0421\", \"V0422\",\n",
    "            \"V0423\", \"V0424\", \"V0425\", \"V0426\", \"V0427\",\n",
    "            \"V0428\", \"V0429\", \"V0430\", \"ANOS_ESTUDO\",\n",
    "            \"PESO\", \"PESO_FINAL\", \"RENDA_TOTAL\",\n",
    "            \"NIVEL_INSTRUCAO\", \"RENDA_DISP_PC\",\"RENDA_MONET_PC\",\n",
    "            \"RENDA_NAO_MONET_PC\",\"DEDUCAO_PC\" ]\n",
    "\n",
    "# leitura dos dados\n",
    "MORADOR = pd.read_fwf(\n",
    "    os.path.join(diretorio, \"MORADOR.txt\"),\n",
    "    widths=larguras,\n",
    "    na_values=[\" \"],\n",
    "    names=colunas,\n",
    "    decimal=\".\"\n",
    ")"
   ]
  },
  {
   "cell_type": "markdown",
   "metadata": {},
   "source": [
    "# Condições"
   ]
  },
  {
   "cell_type": "code",
   "execution_count": 4,
   "metadata": {},
   "outputs": [],
   "source": [
    "condicao1 = ((MORADOR['RENDA_DISP_PC'] + MORADOR['PESO_FINAL']>1000) &\\\n",
    "    (MORADOR['RENDA_MONET_PC'] > 300) &\\\n",
    "    (MORADOR['RENDA_NAO_MONET_PC'] < 200) &\\\n",
    "    (MORADOR['RENDA_TOTAL'] < 1000))\n",
    "\n",
    "condicao2 = ((MORADOR['RENDA_TOTAL'] * 5 > 500) &\\\n",
    "        (MORADOR['RENDA_MONET_PC'] > MORADOR['RENDA_TOTAL'] / 2))"
   ]
  },
  {
   "cell_type": "markdown",
   "metadata": {},
   "source": [
    "# Função"
   ]
  },
  {
   "cell_type": "code",
   "execution_count": 5,
   "metadata": {},
   "outputs": [],
   "source": [
    "def funcao(z):\n",
    "    if (z['RENDA_DISP_PC'] + z['PESO_FINAL'])>1000 and\\\n",
    "        (z['RENDA_MONET_PC']> 300) and\\\n",
    "        (z['RENDA_NAO_MONET_PC']< 200) and\\\n",
    "        z['RENDA_TOTAL']<1000:\n",
    "        return 1\n",
    "    \n",
    "    elif z['RENDA_TOTAL']* 5 > 500 and\\\n",
    "        (z['RENDA_MONET_PC'] > z['RENDA_TOTAL']/2):\n",
    "        return 1\n",
    "    \n",
    "    else:    \n",
    "        return 0"
   ]
  },
  {
   "cell_type": "code",
   "execution_count": 13,
   "metadata": {},
   "outputs": [],
   "source": [
    "tempo = []"
   ]
  },
  {
   "cell_type": "markdown",
   "metadata": {},
   "source": [
    "# For"
   ]
  },
  {
   "cell_type": "code",
   "execution_count": 11,
   "metadata": {},
   "outputs": [
    {
     "data": {
      "text/plain": [
       "var_teste\n",
       "0.0    170714\n",
       "1.0      7717\n",
       "Name: count, dtype: int64"
      ]
     },
     "execution_count": 11,
     "metadata": {},
     "output_type": "execute_result"
    }
   ],
   "source": [
    "inicio = time.time()\n",
    "for i in range(len(MORADOR)):\n",
    "    if( MORADOR.loc[i,'RENDA_DISP_PC'] + MORADOR.loc[i,'PESO_FINAL']>1000) and\\\n",
    "        (MORADOR.loc[i,'RENDA_MONET_PC']>300) and\\\n",
    "        (MORADOR.loc[i,'RENDA_NAO_MONET_PC']<200) and\\\n",
    "        (MORADOR.loc[i,'RENDA_TOTAL']<1000):\n",
    "        MORADOR.loc[i,'var_teste'] = 1\n",
    "    \n",
    "    elif MORADOR.loc[i,'RENDA_TOTAL']*5 >500 and\\\n",
    "        MORADOR.loc[i,'RENDA_MONET_PC'] > MORADOR.loc[i,'RENDA_TOTAL']/2:\n",
    "        MORADOR.loc[i,'var_teste'] = 1\n",
    "    \n",
    "    else:\n",
    "        MORADOR.loc[i,'var_teste'] = 0      \n",
    "final = time.time()\n",
    "\n",
    "delta_for = final-inicio\n",
    "tempo.append(delta_for)\n",
    "MORADOR['var_teste'].value_counts()"
   ]
  },
  {
   "cell_type": "markdown",
   "metadata": {},
   "source": [
    "# Apply"
   ]
  },
  {
   "cell_type": "code",
   "execution_count": null,
   "metadata": {},
   "outputs": [],
   "source": [
    "inicio = time.time()\n",
    "MORADOR['var_teste'] = MORADOR.apply(funcao, axis=1)\n",
    "final = time.time()\n",
    "\n",
    "delta_apply = final-inicio\n",
    "tempo.append(delta_apply)\n",
    "MORADOR['var_teste'].value_counts()"
   ]
  },
  {
   "cell_type": "markdown",
   "metadata": {},
   "source": [
    "# Vetorização pandas"
   ]
  },
  {
   "cell_type": "code",
   "execution_count": null,
   "metadata": {},
   "outputs": [],
   "source": [
    "inicio = time.time()\n",
    "MORADOR.loc[condicao1, 'var_teste']=1\n",
    "# MORADOR.loc[condicao2, 'var_teste']=0\n",
    "final = time.time()\n",
    "\n",
    "delta_vetor_pandas = final-inicio\n",
    "tempo.append(delta_vetor_pandas)\n",
    "MORADOR['var_teste'].value_counts()\n"
   ]
  },
  {
   "cell_type": "markdown",
   "metadata": {},
   "source": [
    "# Funcao para vetorização numpy"
   ]
  },
  {
   "cell_type": "code",
   "execution_count": null,
   "metadata": {},
   "outputs": [],
   "source": [
    "def function1(a, b, c, d, e):\n",
    "    if a + b > 1000 and c > 300 and d < 200 and e < 1000:\n",
    "        return 1\n",
    "    elif e * 5 > 500 and c > e / 2:\n",
    "        return 1\n",
    "    else:\n",
    "        return 0\n",
    "   \n",
    "    \n",
    "function_vetorizada = np.vectorize(pyfunc = function1)\n"
   ]
  },
  {
   "cell_type": "markdown",
   "metadata": {},
   "source": [
    "# Vetorização numpy"
   ]
  },
  {
   "cell_type": "code",
   "execution_count": null,
   "metadata": {},
   "outputs": [],
   "source": [
    "# MORADOR['var_teste'] = ''\n",
    "inicio = time.time()\n",
    "function_vetorizada = (MORADOR['RENDA_DISP_PC'], MORADOR['PESO_FINAL'],MORADOR['RENDA_MONET_PC'],MORADOR['RENDA_NAO_MONET_PC'],MORADOR['RENDA_TOTAL'])\n",
    "final = time.time()\n",
    "\n",
    "delta_vetor_numpy = final-inicio\n",
    "tempo.append(delta_vetor_numpy)\n"
   ]
  },
  {
   "cell_type": "markdown",
   "metadata": {},
   "source": [
    "# np.select"
   ]
  },
  {
   "cell_type": "code",
   "execution_count": 14,
   "metadata": {},
   "outputs": [
    {
     "data": {
      "text/plain": [
       "var_teste\n",
       "0    177978\n",
       "1       453\n",
       "Name: count, dtype: int64"
      ]
     },
     "execution_count": 14,
     "metadata": {},
     "output_type": "execute_result"
    }
   ],
   "source": [
    "inicio = time.time()\n",
    "MORADOR['var_teste'] = np.select([condicao1, condicao2], [1, 0])\n",
    "final = time.time()\n",
    "\n",
    "delta_select = final-inicio\n",
    "tempo.append(delta_select)\n",
    "MORADOR['var_teste'].value_counts()"
   ]
  },
  {
   "cell_type": "markdown",
   "metadata": {},
   "source": [
    "# np.where"
   ]
  },
  {
   "cell_type": "code",
   "execution_count": 8,
   "metadata": {},
   "outputs": [
    {
     "data": {
      "text/plain": [
       "var_teste\n",
       "0    177978\n",
       "1       453\n",
       "Name: count, dtype: int64"
      ]
     },
     "execution_count": 8,
     "metadata": {},
     "output_type": "execute_result"
    }
   ],
   "source": [
    "inicio = time.time()\n",
    "MORADOR['var_teste'] = np.where(condicao1, True , np.where(condicao2, False, 0))\n",
    "final = time.time()\n",
    "\n",
    "delta_where = final-inicio\n",
    "tempo.append(delta_where)\n",
    "MORADOR['var_teste'].value_counts()"
   ]
  },
  {
   "cell_type": "markdown",
   "metadata": {},
   "source": [
    "# Tabela resumo dos tempos"
   ]
  },
  {
   "cell_type": "code",
   "execution_count": null,
   "metadata": {},
   "outputs": [],
   "source": [
    "tabela_tempo = pd.DataFrame({'tempo':tempo}, index =['for', 'apply', 'vetor pandas','vetor numpy', 'np.select','np.where'])\n",
    "tabela_tempo"
   ]
  },
  {
   "cell_type": "markdown",
   "metadata": {},
   "source": [
    "# Gráfico"
   ]
  },
  {
   "cell_type": "code",
   "execution_count": null,
   "metadata": {},
   "outputs": [],
   "source": [
    "sns.lineplot(data = tabela_tempo, x=tabela_tempo.index, y='tempo')"
   ]
  }
 ],
 "metadata": {
  "kernelspec": {
   "display_name": "Python 3",
   "language": "python",
   "name": "python3"
  },
  "language_info": {
   "codemirror_mode": {
    "name": "ipython",
    "version": 3
   },
   "file_extension": ".py",
   "mimetype": "text/x-python",
   "name": "python",
   "nbconvert_exporter": "python",
   "pygments_lexer": "ipython3",
   "version": "3.11.4"
  }
 },
 "nbformat": 4,
 "nbformat_minor": 2
}
